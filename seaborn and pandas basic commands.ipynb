{
 "cells": [
  {
   "cell_type": "markdown",
   "id": "olympic-punishment",
   "metadata": {},
   "source": [
    "0. Objectives: \n",
    "    Get to know pandas and seaborn libraries \n",
    "    \n",
    "    \n",
    "    python3 with packages:\n",
    "    pandas\n",
    "    seaborn for plots\n",
    "    \n",
    "1. Information about dataset\n",
    "\n",
    "    Dataset from https://archive.ics.uci.edu/ml/datasets/auto+mpg\n",
    "    Columns:\n",
    "    1. mpg: continuous \n",
    "    2. cylinders: multi-valued discrete \n",
    "    3. displacement: continuous \n",
    "    4. horsepower: continuous \n",
    "    5. weight: continuous \n",
    "    6. acceleration: continuous \n",
    "    7. model year: multi-valued discrete \n",
    "    8. origin: multi-valued discrete \n",
    "    9. car name: string (unique for each instance)\n",
    "\n",
    "    Missing Attribute Values:  horsepower has 6 missing values\n",
    "\n",
    "2. Research questions: \n",
    "    2.1 Is there a single atribute that can predict mpg?\n",
    "    2.2 Which combination of atributes predicts mpg (miles per gallon) value the best?"
   ]
  },
  {
   "cell_type": "code",
   "execution_count": 65,
   "id": "spanish-academy",
   "metadata": {},
   "outputs": [
    {
     "data": {
      "text/plain": [
       "(398, 9)"
      ]
     },
     "execution_count": 65,
     "metadata": {},
     "output_type": "execute_result"
    }
   ],
   "source": [
    "import math\n",
    "import numpy\n",
    "import pandas\n",
    "import seaborn\n",
    "\n",
    "\n",
    "data_frame=pandas.read_fwf('auto-mpg.data',names=[\"mpg\", \"cylinders\", \"displacement\", \n",
    "                                                  \"horsepower\", \"weight\", \"acceleration\", \"model year\", \n",
    "                                                  \"origin\", \"car name\"]) # read fixed width file\n",
    "data_frame.shape #number of (rows, columns)"
   ]
  },
  {
   "cell_type": "code",
   "execution_count": 66,
   "id": "unable-particular",
   "metadata": {},
   "outputs": [
    {
     "data": {
      "text/html": [
       "<div>\n",
       "<style scoped>\n",
       "    .dataframe tbody tr th:only-of-type {\n",
       "        vertical-align: middle;\n",
       "    }\n",
       "\n",
       "    .dataframe tbody tr th {\n",
       "        vertical-align: top;\n",
       "    }\n",
       "\n",
       "    .dataframe thead th {\n",
       "        text-align: right;\n",
       "    }\n",
       "</style>\n",
       "<table border=\"1\" class=\"dataframe\">\n",
       "  <thead>\n",
       "    <tr style=\"text-align: right;\">\n",
       "      <th></th>\n",
       "      <th>mpg</th>\n",
       "      <th>cylinders</th>\n",
       "      <th>displacement</th>\n",
       "      <th>horsepower</th>\n",
       "      <th>weight</th>\n",
       "      <th>acceleration</th>\n",
       "      <th>model year</th>\n",
       "      <th>origin</th>\n",
       "      <th>car name</th>\n",
       "    </tr>\n",
       "  </thead>\n",
       "  <tbody>\n",
       "    <tr>\n",
       "      <th>0</th>\n",
       "      <td>18.0</td>\n",
       "      <td>8</td>\n",
       "      <td>307.0</td>\n",
       "      <td>130.0</td>\n",
       "      <td>3504.0</td>\n",
       "      <td>12.0</td>\n",
       "      <td>70</td>\n",
       "      <td>1</td>\n",
       "      <td>\"chevrolet chevelle malibu\"</td>\n",
       "    </tr>\n",
       "    <tr>\n",
       "      <th>1</th>\n",
       "      <td>15.0</td>\n",
       "      <td>8</td>\n",
       "      <td>350.0</td>\n",
       "      <td>165.0</td>\n",
       "      <td>3693.0</td>\n",
       "      <td>11.5</td>\n",
       "      <td>70</td>\n",
       "      <td>1</td>\n",
       "      <td>\"buick skylark 320\"</td>\n",
       "    </tr>\n",
       "    <tr>\n",
       "      <th>2</th>\n",
       "      <td>18.0</td>\n",
       "      <td>8</td>\n",
       "      <td>318.0</td>\n",
       "      <td>150.0</td>\n",
       "      <td>3436.0</td>\n",
       "      <td>11.0</td>\n",
       "      <td>70</td>\n",
       "      <td>1</td>\n",
       "      <td>\"plymouth satellite\"</td>\n",
       "    </tr>\n",
       "    <tr>\n",
       "      <th>3</th>\n",
       "      <td>16.0</td>\n",
       "      <td>8</td>\n",
       "      <td>304.0</td>\n",
       "      <td>150.0</td>\n",
       "      <td>3433.0</td>\n",
       "      <td>12.0</td>\n",
       "      <td>70</td>\n",
       "      <td>1</td>\n",
       "      <td>\"amc rebel sst\"</td>\n",
       "    </tr>\n",
       "    <tr>\n",
       "      <th>4</th>\n",
       "      <td>17.0</td>\n",
       "      <td>8</td>\n",
       "      <td>302.0</td>\n",
       "      <td>140.0</td>\n",
       "      <td>3449.0</td>\n",
       "      <td>10.5</td>\n",
       "      <td>70</td>\n",
       "      <td>1</td>\n",
       "      <td>\"ford torino\"</td>\n",
       "    </tr>\n",
       "    <tr>\n",
       "      <th>...</th>\n",
       "      <td>...</td>\n",
       "      <td>...</td>\n",
       "      <td>...</td>\n",
       "      <td>...</td>\n",
       "      <td>...</td>\n",
       "      <td>...</td>\n",
       "      <td>...</td>\n",
       "      <td>...</td>\n",
       "      <td>...</td>\n",
       "    </tr>\n",
       "    <tr>\n",
       "      <th>393</th>\n",
       "      <td>27.0</td>\n",
       "      <td>4</td>\n",
       "      <td>140.0</td>\n",
       "      <td>86.0</td>\n",
       "      <td>2790.0</td>\n",
       "      <td>15.6</td>\n",
       "      <td>82</td>\n",
       "      <td>1</td>\n",
       "      <td>\"ford mustang gl\"</td>\n",
       "    </tr>\n",
       "    <tr>\n",
       "      <th>394</th>\n",
       "      <td>44.0</td>\n",
       "      <td>4</td>\n",
       "      <td>97.0</td>\n",
       "      <td>52.0</td>\n",
       "      <td>2130.0</td>\n",
       "      <td>24.6</td>\n",
       "      <td>82</td>\n",
       "      <td>2</td>\n",
       "      <td>\"vw pickup\"</td>\n",
       "    </tr>\n",
       "    <tr>\n",
       "      <th>395</th>\n",
       "      <td>32.0</td>\n",
       "      <td>4</td>\n",
       "      <td>135.0</td>\n",
       "      <td>84.0</td>\n",
       "      <td>2295.0</td>\n",
       "      <td>11.6</td>\n",
       "      <td>82</td>\n",
       "      <td>1</td>\n",
       "      <td>\"dodge rampage\"</td>\n",
       "    </tr>\n",
       "    <tr>\n",
       "      <th>396</th>\n",
       "      <td>28.0</td>\n",
       "      <td>4</td>\n",
       "      <td>120.0</td>\n",
       "      <td>79.0</td>\n",
       "      <td>2625.0</td>\n",
       "      <td>18.6</td>\n",
       "      <td>82</td>\n",
       "      <td>1</td>\n",
       "      <td>\"ford ranger\"</td>\n",
       "    </tr>\n",
       "    <tr>\n",
       "      <th>397</th>\n",
       "      <td>31.0</td>\n",
       "      <td>4</td>\n",
       "      <td>119.0</td>\n",
       "      <td>82.0</td>\n",
       "      <td>2720.0</td>\n",
       "      <td>19.4</td>\n",
       "      <td>82</td>\n",
       "      <td>1</td>\n",
       "      <td>\"chevy s-10\"</td>\n",
       "    </tr>\n",
       "  </tbody>\n",
       "</table>\n",
       "<p>398 rows × 9 columns</p>\n",
       "</div>"
      ],
      "text/plain": [
       "      mpg  cylinders  displacement  horsepower  weight  acceleration  \\\n",
       "0    18.0          8         307.0       130.0  3504.0          12.0   \n",
       "1    15.0          8         350.0       165.0  3693.0          11.5   \n",
       "2    18.0          8         318.0       150.0  3436.0          11.0   \n",
       "3    16.0          8         304.0       150.0  3433.0          12.0   \n",
       "4    17.0          8         302.0       140.0  3449.0          10.5   \n",
       "..    ...        ...           ...         ...     ...           ...   \n",
       "393  27.0          4         140.0        86.0  2790.0          15.6   \n",
       "394  44.0          4          97.0        52.0  2130.0          24.6   \n",
       "395  32.0          4         135.0        84.0  2295.0          11.6   \n",
       "396  28.0          4         120.0        79.0  2625.0          18.6   \n",
       "397  31.0          4         119.0        82.0  2720.0          19.4   \n",
       "\n",
       "     model year  origin                     car name  \n",
       "0            70       1  \"chevrolet chevelle malibu\"  \n",
       "1            70       1          \"buick skylark 320\"  \n",
       "2            70       1         \"plymouth satellite\"  \n",
       "3            70       1              \"amc rebel sst\"  \n",
       "4            70       1                \"ford torino\"  \n",
       "..          ...     ...                          ...  \n",
       "393          82       1            \"ford mustang gl\"  \n",
       "394          82       2                  \"vw pickup\"  \n",
       "395          82       1              \"dodge rampage\"  \n",
       "396          82       1                \"ford ranger\"  \n",
       "397          82       1                 \"chevy s-10\"  \n",
       "\n",
       "[398 rows x 9 columns]"
      ]
     },
     "execution_count": 66,
     "metadata": {},
     "output_type": "execute_result"
    }
   ],
   "source": [
    "data_frame #shows first five rows. tail() shows last five rows"
   ]
  },
  {
   "cell_type": "code",
   "execution_count": 67,
   "id": "considered-provider",
   "metadata": {},
   "outputs": [
    {
     "data": {
      "text/html": [
       "<div>\n",
       "<style scoped>\n",
       "    .dataframe tbody tr th:only-of-type {\n",
       "        vertical-align: middle;\n",
       "    }\n",
       "\n",
       "    .dataframe tbody tr th {\n",
       "        vertical-align: top;\n",
       "    }\n",
       "\n",
       "    .dataframe thead th {\n",
       "        text-align: right;\n",
       "    }\n",
       "</style>\n",
       "<table border=\"1\" class=\"dataframe\">\n",
       "  <thead>\n",
       "    <tr style=\"text-align: right;\">\n",
       "      <th></th>\n",
       "      <th>mpg</th>\n",
       "      <th>cylinders</th>\n",
       "      <th>displacement</th>\n",
       "      <th>horsepower</th>\n",
       "      <th>weight</th>\n",
       "      <th>acceleration</th>\n",
       "      <th>model year</th>\n",
       "      <th>origin</th>\n",
       "    </tr>\n",
       "  </thead>\n",
       "  <tbody>\n",
       "    <tr>\n",
       "      <th>count</th>\n",
       "      <td>398.000000</td>\n",
       "      <td>398.000000</td>\n",
       "      <td>398.000000</td>\n",
       "      <td>392.000000</td>\n",
       "      <td>398.000000</td>\n",
       "      <td>398.000000</td>\n",
       "      <td>398.000000</td>\n",
       "      <td>398.000000</td>\n",
       "    </tr>\n",
       "    <tr>\n",
       "      <th>mean</th>\n",
       "      <td>23.514573</td>\n",
       "      <td>5.454774</td>\n",
       "      <td>193.425879</td>\n",
       "      <td>104.469388</td>\n",
       "      <td>2970.424623</td>\n",
       "      <td>15.568090</td>\n",
       "      <td>76.010050</td>\n",
       "      <td>1.572864</td>\n",
       "    </tr>\n",
       "    <tr>\n",
       "      <th>std</th>\n",
       "      <td>7.815984</td>\n",
       "      <td>1.701004</td>\n",
       "      <td>104.269838</td>\n",
       "      <td>38.491160</td>\n",
       "      <td>846.841774</td>\n",
       "      <td>2.757689</td>\n",
       "      <td>3.697627</td>\n",
       "      <td>0.802055</td>\n",
       "    </tr>\n",
       "    <tr>\n",
       "      <th>min</th>\n",
       "      <td>9.000000</td>\n",
       "      <td>3.000000</td>\n",
       "      <td>68.000000</td>\n",
       "      <td>46.000000</td>\n",
       "      <td>1613.000000</td>\n",
       "      <td>8.000000</td>\n",
       "      <td>70.000000</td>\n",
       "      <td>1.000000</td>\n",
       "    </tr>\n",
       "    <tr>\n",
       "      <th>25%</th>\n",
       "      <td>17.500000</td>\n",
       "      <td>4.000000</td>\n",
       "      <td>104.250000</td>\n",
       "      <td>75.000000</td>\n",
       "      <td>2223.750000</td>\n",
       "      <td>13.825000</td>\n",
       "      <td>73.000000</td>\n",
       "      <td>1.000000</td>\n",
       "    </tr>\n",
       "    <tr>\n",
       "      <th>50%</th>\n",
       "      <td>23.000000</td>\n",
       "      <td>4.000000</td>\n",
       "      <td>148.500000</td>\n",
       "      <td>93.500000</td>\n",
       "      <td>2803.500000</td>\n",
       "      <td>15.500000</td>\n",
       "      <td>76.000000</td>\n",
       "      <td>1.000000</td>\n",
       "    </tr>\n",
       "    <tr>\n",
       "      <th>75%</th>\n",
       "      <td>29.000000</td>\n",
       "      <td>8.000000</td>\n",
       "      <td>262.000000</td>\n",
       "      <td>126.000000</td>\n",
       "      <td>3608.000000</td>\n",
       "      <td>17.175000</td>\n",
       "      <td>79.000000</td>\n",
       "      <td>2.000000</td>\n",
       "    </tr>\n",
       "    <tr>\n",
       "      <th>max</th>\n",
       "      <td>46.600000</td>\n",
       "      <td>8.000000</td>\n",
       "      <td>455.000000</td>\n",
       "      <td>230.000000</td>\n",
       "      <td>5140.000000</td>\n",
       "      <td>24.800000</td>\n",
       "      <td>82.000000</td>\n",
       "      <td>3.000000</td>\n",
       "    </tr>\n",
       "  </tbody>\n",
       "</table>\n",
       "</div>"
      ],
      "text/plain": [
       "              mpg   cylinders  displacement  horsepower       weight  \\\n",
       "count  398.000000  398.000000    398.000000  392.000000   398.000000   \n",
       "mean    23.514573    5.454774    193.425879  104.469388  2970.424623   \n",
       "std      7.815984    1.701004    104.269838   38.491160   846.841774   \n",
       "min      9.000000    3.000000     68.000000   46.000000  1613.000000   \n",
       "25%     17.500000    4.000000    104.250000   75.000000  2223.750000   \n",
       "50%     23.000000    4.000000    148.500000   93.500000  2803.500000   \n",
       "75%     29.000000    8.000000    262.000000  126.000000  3608.000000   \n",
       "max     46.600000    8.000000    455.000000  230.000000  5140.000000   \n",
       "\n",
       "       acceleration  model year      origin  \n",
       "count    398.000000  398.000000  398.000000  \n",
       "mean      15.568090   76.010050    1.572864  \n",
       "std        2.757689    3.697627    0.802055  \n",
       "min        8.000000   70.000000    1.000000  \n",
       "25%       13.825000   73.000000    1.000000  \n",
       "50%       15.500000   76.000000    1.000000  \n",
       "75%       17.175000   79.000000    2.000000  \n",
       "max       24.800000   82.000000    3.000000  "
      ]
     },
     "execution_count": 67,
     "metadata": {},
     "output_type": "execute_result"
    }
   ],
   "source": [
    "data_frame.describe()"
   ]
  },
  {
   "cell_type": "code",
   "execution_count": 68,
   "id": "front-gathering",
   "metadata": {},
   "outputs": [
    {
     "data": {
      "text/plain": [
       "mpg               23.0\n",
       "cylinders          4.0\n",
       "displacement     148.5\n",
       "horsepower        93.5\n",
       "weight          2803.5\n",
       "acceleration      15.5\n",
       "model year        76.0\n",
       "origin             1.0\n",
       "dtype: float64"
      ]
     },
     "execution_count": 68,
     "metadata": {},
     "output_type": "execute_result"
    }
   ],
   "source": [
    "data_frame.median() # Same as 50% (percentiles)"
   ]
  },
  {
   "cell_type": "code",
   "execution_count": 69,
   "id": "compressed-fiber",
   "metadata": {},
   "outputs": [
    {
     "data": {
      "text/plain": [
       "23.514572864321615"
      ]
     },
     "execution_count": 69,
     "metadata": {},
     "output_type": "execute_result"
    }
   ],
   "source": [
    "#find mean using formula\n",
    "mean_value=sum(data_frame.mpg)/data_frame[\"mpg\"].count() #mean - average of all the values in the column\n",
    "mean_value"
   ]
  },
  {
   "cell_type": "code",
   "execution_count": 70,
   "id": "played-tribune",
   "metadata": {},
   "outputs": [
    {
     "data": {
      "text/plain": [
       "61.089611"
      ]
     },
     "execution_count": 70,
     "metadata": {},
     "output_type": "execute_result"
    }
   ],
   "source": [
    "# Find variance using formula. Used for standard deviation\n",
    "def variance(dataframe_column):\n",
    "    variance = 0\n",
    "    sum_of_squared_difference = 0\n",
    "    for item in dataframe_column:\n",
    "        sum_of_squared_difference += pow((item-round(mean_value,6)),2)\n",
    "    variance = sum_of_squared_difference/(data_frame[\"mpg\"].count()-1) #formula for sample; sample size-1, pandas default\n",
    "    return round(variance,6)\n",
    "variance(data_frame[\"mpg\"])"
   ]
  },
  {
   "cell_type": "code",
   "execution_count": 71,
   "id": "later-giving",
   "metadata": {},
   "outputs": [
    {
     "data": {
      "text/plain": [
       "7.81598432700578"
      ]
     },
     "execution_count": 71,
     "metadata": {},
     "output_type": "execute_result"
    }
   ],
   "source": [
    "# Find standard deviation using formula\n",
    "standard_deviation = math.sqrt(variance(data_frame[\"mpg\"]))\n",
    "standard_deviation"
   ]
  },
  {
   "cell_type": "code",
   "execution_count": 72,
   "id": "humanitarian-funds",
   "metadata": {},
   "outputs": [
    {
     "data": {
      "text/plain": [
       "7.815984312565782"
      ]
     },
     "execution_count": 72,
     "metadata": {},
     "output_type": "execute_result"
    }
   ],
   "source": [
    "data_frame[\"mpg\"].std(ddof=1)  # Delta Degrees of Freedom. The divisor used in calculations is (N - ddof), where N represents the number of elements."
   ]
  },
  {
   "cell_type": "code",
   "execution_count": 73,
   "id": "basic-stranger",
   "metadata": {},
   "outputs": [
    {
     "data": {
      "text/html": [
       "<div>\n",
       "<style scoped>\n",
       "    .dataframe tbody tr th:only-of-type {\n",
       "        vertical-align: middle;\n",
       "    }\n",
       "\n",
       "    .dataframe tbody tr th {\n",
       "        vertical-align: top;\n",
       "    }\n",
       "\n",
       "    .dataframe thead th {\n",
       "        text-align: right;\n",
       "    }\n",
       "</style>\n",
       "<table border=\"1\" class=\"dataframe\">\n",
       "  <thead>\n",
       "    <tr style=\"text-align: right;\">\n",
       "      <th></th>\n",
       "      <th>mpg</th>\n",
       "      <th>model year</th>\n",
       "    </tr>\n",
       "  </thead>\n",
       "  <tbody>\n",
       "    <tr>\n",
       "      <th>0</th>\n",
       "      <td>18.0</td>\n",
       "      <td>70</td>\n",
       "    </tr>\n",
       "    <tr>\n",
       "      <th>1</th>\n",
       "      <td>15.0</td>\n",
       "      <td>70</td>\n",
       "    </tr>\n",
       "    <tr>\n",
       "      <th>2</th>\n",
       "      <td>18.0</td>\n",
       "      <td>70</td>\n",
       "    </tr>\n",
       "    <tr>\n",
       "      <th>3</th>\n",
       "      <td>16.0</td>\n",
       "      <td>70</td>\n",
       "    </tr>\n",
       "    <tr>\n",
       "      <th>4</th>\n",
       "      <td>17.0</td>\n",
       "      <td>70</td>\n",
       "    </tr>\n",
       "    <tr>\n",
       "      <th>...</th>\n",
       "      <td>...</td>\n",
       "      <td>...</td>\n",
       "    </tr>\n",
       "    <tr>\n",
       "      <th>393</th>\n",
       "      <td>27.0</td>\n",
       "      <td>82</td>\n",
       "    </tr>\n",
       "    <tr>\n",
       "      <th>394</th>\n",
       "      <td>44.0</td>\n",
       "      <td>82</td>\n",
       "    </tr>\n",
       "    <tr>\n",
       "      <th>395</th>\n",
       "      <td>32.0</td>\n",
       "      <td>82</td>\n",
       "    </tr>\n",
       "    <tr>\n",
       "      <th>396</th>\n",
       "      <td>28.0</td>\n",
       "      <td>82</td>\n",
       "    </tr>\n",
       "    <tr>\n",
       "      <th>397</th>\n",
       "      <td>31.0</td>\n",
       "      <td>82</td>\n",
       "    </tr>\n",
       "  </tbody>\n",
       "</table>\n",
       "<p>398 rows × 2 columns</p>\n",
       "</div>"
      ],
      "text/plain": [
       "      mpg  model year\n",
       "0    18.0          70\n",
       "1    15.0          70\n",
       "2    18.0          70\n",
       "3    16.0          70\n",
       "4    17.0          70\n",
       "..    ...         ...\n",
       "393  27.0          82\n",
       "394  44.0          82\n",
       "395  32.0          82\n",
       "396  28.0          82\n",
       "397  31.0          82\n",
       "\n",
       "[398 rows x 2 columns]"
      ]
     },
     "execution_count": 73,
     "metadata": {},
     "output_type": "execute_result"
    }
   ],
   "source": [
    "data_frame[[\"mpg\",\"model year\"]]"
   ]
  },
  {
   "cell_type": "markdown",
   "id": "hungry-printing",
   "metadata": {},
   "source": [
    "Different plots, same data"
   ]
  },
  {
   "cell_type": "code",
   "execution_count": 74,
   "id": "aboriginal-lighting",
   "metadata": {
    "scrolled": true
   },
   "outputs": [
    {
     "data": {
      "text/plain": [
       "<AxesSubplot:xlabel='mpg', ylabel='horsepower'>"
      ]
     },
     "execution_count": 74,
     "metadata": {},
     "output_type": "execute_result"
    },
    {
     "data": {
      "image/png": "[encoded data removed]",
      "text/plain": [
       "<Figure size 1440x360 with 1 Axes>"
      ]
     },
     "metadata": {},
     "output_type": "display_data"
    }
   ],
   "source": [
    "seaborn.set_theme(rc={'figure.figsize':(20,5)}) # customize plot https://matplotlib.org/3.2.2/tutorials/introductory/customizing.html\n",
    "seaborn.scatterplot(data=data_frame[[\"mpg\",\"horsepower\"]], y=\"horsepower\", x=\"mpg\")"
   ]
  },
  {
   "cell_type": "code",
   "execution_count": 75,
   "id": "dress-video",
   "metadata": {
    "scrolled": true
   },
   "outputs": [
    {
     "data": {
      "text/plain": [
       "<seaborn.axisgrid.FacetGrid at 0x11df7bc10>"
      ]
     },
     "execution_count": 75,
     "metadata": {},
     "output_type": "execute_result"
    },
    {
     "data": {
      "image/png": "[encoded data removed]",
      "text/plain": [
       "<Figure size 360x360 with 1 Axes>"
      ]
     },
     "metadata": {},
     "output_type": "display_data"
    }
   ],
   "source": [
    "seaborn.displot(data=data_frame[[\"mpg\",\"horsepower\"]], y=\"horsepower\", x=\"mpg\")#(data=data_frame[[\"mpg\",\"displacement\"]], y=\"mpg\", x=\"displacement\", hue=data_frame[\"origin\"])"
   ]
  },
  {
   "cell_type": "code",
   "execution_count": 76,
   "id": "timely-courage",
   "metadata": {},
   "outputs": [
    {
     "data": {
      "text/plain": [
       "<AxesSubplot:xlabel='mpg', ylabel='horsepower'>"
      ]
     },
     "execution_count": 76,
     "metadata": {},
     "output_type": "execute_result"
    },
    {
     "data": {
      "image/png": "[encoded data removed]",
      "text/plain": [
       "<Figure size 1440x360 with 1 Axes>"
      ]
     },
     "metadata": {},
     "output_type": "display_data"
    }
   ],
   "source": [
    "seaborn.regplot(data=data_frame[[\"mpg\",\"horsepower\"]], y=\"horsepower\", x=\"mpg\")\n",
    "#(data=data_frame[[\"mpg\",\"model year\"]], y=\"mpg\", x=\"model year\")"
   ]
  },
  {
   "cell_type": "code",
   "execution_count": 92,
   "id": "combined-commission",
   "metadata": {},
   "outputs": [
    {
     "data": {
      "text/plain": [
       "<AxesSubplot:xlabel='origin', ylabel='mpg'>"
      ]
     },
     "execution_count": 92,
     "metadata": {},
     "output_type": "execute_result"
    },
    {
     "data": {
      "image/png": "[encoded data removed]",
      "text/plain": [
       "<Figure size 1440x360 with 1 Axes>"
      ]
     },
     "metadata": {},
     "output_type": "display_data"
    }
   ],
   "source": [
    "seaborn.scatterplot(data=data_frame[[\"mpg\",\"origin\"]], x=\"origin\", y=\"mpg\")"
   ]
  },
  {
   "cell_type": "markdown",
   "id": "continental-found",
   "metadata": {},
   "source": [
    "Split training and test set. Use following features \"cylinders\", \"displacement\", \"horsepower\", \"weight\", \"acceleration\", \"model year\", \"origin\" to predict mpg value."
   ]
  },
  {
   "cell_type": "code",
   "execution_count": 77,
   "id": "forbidden-christopher",
   "metadata": {},
   "outputs": [
    {
     "name": "stdout",
     "output_type": "stream",
     "text": [
      "      mpg  cylinders  displacement  horsepower  weight  acceleration  \\\n",
      "0    18.0          8         307.0       130.0  3504.0          12.0   \n",
      "1    15.0          8         350.0       165.0  3693.0          11.5   \n",
      "2    18.0          8         318.0       150.0  3436.0          11.0   \n",
      "3    16.0          8         304.0       150.0  3433.0          12.0   \n",
      "4    17.0          8         302.0       140.0  3449.0          10.5   \n",
      "..    ...        ...           ...         ...     ...           ...   \n",
      "393  27.0          4         140.0        86.0  2790.0          15.6   \n",
      "394  44.0          4          97.0        52.0  2130.0          24.6   \n",
      "395  32.0          4         135.0        84.0  2295.0          11.6   \n",
      "396  28.0          4         120.0        79.0  2625.0          18.6   \n",
      "397  31.0          4         119.0        82.0  2720.0          19.4   \n",
      "\n",
      "     model year  origin                     car name  \n",
      "0            70       1  \"chevrolet chevelle malibu\"  \n",
      "1            70       1          \"buick skylark 320\"  \n",
      "2            70       1         \"plymouth satellite\"  \n",
      "3            70       1              \"amc rebel sst\"  \n",
      "4            70       1                \"ford torino\"  \n",
      "..          ...     ...                          ...  \n",
      "393          82       1            \"ford mustang gl\"  \n",
      "394          82       2                  \"vw pickup\"  \n",
      "395          82       1              \"dodge rampage\"  \n",
      "396          82       1                \"ford ranger\"  \n",
      "397          82       1                 \"chevy s-10\"  \n",
      "\n",
      "[398 rows x 9 columns]\n",
      "      mpg  cylinders  displacement  horsepower  weight  acceleration  \\\n",
      "0    18.0          8         307.0       130.0  3504.0          12.0   \n",
      "1    15.0          8         350.0       165.0  3693.0          11.5   \n",
      "2    18.0          8         318.0       150.0  3436.0          11.0   \n",
      "3    16.0          8         304.0       150.0  3433.0          12.0   \n",
      "4    17.0          8         302.0       140.0  3449.0          10.5   \n",
      "..    ...        ...           ...         ...     ...           ...   \n",
      "387  27.0          4         140.0        86.0  2790.0          15.6   \n",
      "388  44.0          4          97.0        52.0  2130.0          24.6   \n",
      "389  32.0          4         135.0        84.0  2295.0          11.6   \n",
      "390  28.0          4         120.0        79.0  2625.0          18.6   \n",
      "391  31.0          4         119.0        82.0  2720.0          19.4   \n",
      "\n",
      "     model year  origin                     car name  \n",
      "0            70       1  \"chevrolet chevelle malibu\"  \n",
      "1            70       1          \"buick skylark 320\"  \n",
      "2            70       1         \"plymouth satellite\"  \n",
      "3            70       1              \"amc rebel sst\"  \n",
      "4            70       1                \"ford torino\"  \n",
      "..          ...     ...                          ...  \n",
      "387          82       1            \"ford mustang gl\"  \n",
      "388          82       2                  \"vw pickup\"  \n",
      "389          82       1              \"dodge rampage\"  \n",
      "390          82       1                \"ford ranger\"  \n",
      "391          82       1                 \"chevy s-10\"  \n",
      "\n",
      "[392 rows x 9 columns]\n"
     ]
    }
   ],
   "source": [
    "from sklearn.linear_model import LinearRegression\n",
    "from sklearn.model_selection import train_test_split\n",
    "\n",
    "print(data_frame)\n",
    "data_frame_no_nulls = data_frame.dropna(subset=['horsepower']) # remove records with 'null' values\n",
    "data_frame_no_nulls = data_frame_no_nulls.reset_index(drop=True)\n",
    "print(data_frame_no_nulls)\n",
    "\n"
   ]
  },
  {
   "cell_type": "code",
   "execution_count": 78,
   "id": "russian-wrapping",
   "metadata": {},
   "outputs": [],
   "source": [
    "features = data_frame_no_nulls.drop([\"mpg\", \"car name\"], axis=1)\n",
    "target = data_frame_no_nulls[\"mpg\"]\n",
    "features_train, features_test, target_train, target_test = train_test_split(features, target,\n",
    "                                                                            test_size=0.3, random_state=100, \n",
    "                                                                            shuffle=True)\n"
   ]
  },
  {
   "cell_type": "code",
   "execution_count": 79,
   "id": "vulnerable-israeli",
   "metadata": {},
   "outputs": [],
   "source": [
    "model = LinearRegression()\n"
   ]
  },
  {
   "cell_type": "code",
   "execution_count": 80,
   "id": "japanese-connection",
   "metadata": {},
   "outputs": [
    {
     "data": {
      "text/plain": [
       "LinearRegression()"
      ]
     },
     "execution_count": 80,
     "metadata": {},
     "output_type": "execute_result"
    }
   ],
   "source": [
    "model.fit(features_train, target_train)\n"
   ]
  },
  {
   "cell_type": "code",
   "execution_count": 81,
   "id": "important-drunk",
   "metadata": {},
   "outputs": [
    {
     "name": "stdout",
     "output_type": "stream",
     "text": [
      "Intrception:  -17.711803529588046\n",
      "\n",
      "  Feature/Column  Coefficient\n",
      "6         origin     1.618637\n",
      "5     model year     0.734823\n",
      "4   acceleration     0.165113\n",
      "1   displacement     0.025179\n",
      "3         weight    -0.006426\n",
      "2     horsepower    -0.032590\n",
      "0      cylinders    -0.374471\n"
     ]
    }
   ],
   "source": [
    "\n",
    "print(\"Intrception: \", model.intercept_)\n",
    "model_coefs = pandas.DataFrame({'Feature/Column':list(features_train.columns), \n",
    "'Coefficient': model.coef_}).sort_values(by='Coefficient',ascending=False) \n",
    "print()\n",
    "print(model_coefs) \n",
    "# For every one-unit increase in feature, the mpg increases by coefficient when all other variables are held constant."
   ]
  },
  {
   "cell_type": "code",
   "execution_count": 82,
   "id": "superior-crime",
   "metadata": {},
   "outputs": [
    {
     "data": {
      "text/plain": [
       "array([20.71583956, 28.15422546, 30.94236911, 24.79623704, 27.0195287 ,\n",
       "       11.99277183, 34.31707133, 18.57939432, 28.032728  , 21.85178276,\n",
       "       20.24216229, 28.31130945, 24.2700595 , 26.2972445 , 30.43612975,\n",
       "       27.9878452 , 10.11329081, 31.36088971, 20.88046345, 24.51879206,\n",
       "        6.40131585, 21.22564443, 16.41105372, 27.48729351, 19.87677811,\n",
       "       27.9990026 , 30.28872047, 19.48048342, 26.00784953, 20.56426275,\n",
       "       31.81154683, 20.63606955, 22.13183306, 13.94996691, 34.43855241,\n",
       "       18.05635537, 22.00411339, 27.07143949, 18.15401022, 11.3440506 ,\n",
       "       26.22245875, 21.75855781, 18.84953637, 14.0291218 , 20.24400567,\n",
       "       29.75551618, 24.09570087, 21.60056492, 28.03802481, 23.29286845,\n",
       "       24.54904669, 25.36407664, 27.57806154, 13.28160084, 25.34943283,\n",
       "       24.43586886, 24.26261061, 30.4343015 , 23.45211012, 10.45164862,\n",
       "        9.71803165, 35.85818933, 30.44382055, 30.74583588, 13.0300035 ,\n",
       "       30.24183413, 15.66778395, 30.39128912, 20.21285747, 18.25331486,\n",
       "       25.7991004 , 22.93943109, 19.84833992, 17.64437028, 30.67485182,\n",
       "       17.65280996, 17.33475223,  7.58006785, 29.03096623, 29.39410278,\n",
       "       33.87819413, 30.54269341, 32.02601848, 25.50830325, 35.17446406,\n",
       "       10.11549721, 23.64501603, 17.57581813, 25.76666946, 22.3486505 ,\n",
       "       15.0340029 , 21.11755487, 22.61815256, 24.18829167, 31.45298107,\n",
       "       30.31620983, 24.00439896, 13.46063314, 35.09411205, 26.10076323,\n",
       "       26.36463918, 17.78585789, 25.56128972, 35.12735996, 23.42222927,\n",
       "       19.48082282, 21.35026348, 21.00686151, 28.71160284, 23.65298965,\n",
       "       29.18163988, 22.53641781, 15.46283456, 29.44442918, 19.34015461,\n",
       "       16.53448143, 27.0446265 , 26.90205402])"
      ]
     },
     "execution_count": 82,
     "metadata": {},
     "output_type": "execute_result"
    }
   ],
   "source": [
    "target_pred = model.predict(features_test)\n",
    "target_pred"
   ]
  },
  {
   "cell_type": "code",
   "execution_count": 83,
   "id": "roman-campus",
   "metadata": {},
   "outputs": [
    {
     "name": "stdout",
     "output_type": "stream",
     "text": [
      "The R-squared score is 0.7997\n",
      "The root mean squared error is 3.2424. Values closer to zero are better.\n",
      "__________________________\n"
     ]
    }
   ],
   "source": [
    "from sklearn.metrics import r2_score, mean_squared_error\n",
    "\n",
    "print(\"The R-squared score is {:.4f}\".format(r2_score(target_test, target_pred)))\n",
    "print(\"The root mean squared error is {:.4f}. Values closer to zero are better.\".format(numpy.sqrt(mean_squared_error(target_test, target_pred))))\n",
    "print (\"__________________________\")"
   ]
  },
  {
   "cell_type": "code",
   "execution_count": 84,
   "id": "contrary-exhaust",
   "metadata": {},
   "outputs": [
    {
     "name": "stdout",
     "output_type": "stream",
     "text": [
      "     cylinders  displacement  horsepower  weight  acceleration  model year  \\\n",
      "0            8         307.0       130.0  3504.0          12.0          70   \n",
      "1            8         350.0       165.0  3693.0          11.5          70   \n",
      "2            8         318.0       150.0  3436.0          11.0          70   \n",
      "3            8         304.0       150.0  3433.0          12.0          70   \n",
      "4            8         302.0       140.0  3449.0          10.5          70   \n",
      "..         ...           ...         ...     ...           ...         ...   \n",
      "387          4         140.0        86.0  2790.0          15.6          82   \n",
      "388          4          97.0        52.0  2130.0          24.6          82   \n",
      "389          4         135.0        84.0  2295.0          11.6          82   \n",
      "390          4         120.0        79.0  2625.0          18.6          82   \n",
      "391          4         119.0        82.0  2720.0          19.4          82   \n",
      "\n",
      "     origin  \n",
      "0         1  \n",
      "1         1  \n",
      "2         1  \n",
      "3         1  \n",
      "4         1  \n",
      "..      ...  \n",
      "387       1  \n",
      "388       2  \n",
      "389       1  \n",
      "390       1  \n",
      "391       1  \n",
      "\n",
      "[392 rows x 7 columns]\n"
     ]
    }
   ],
   "source": [
    "print(features)"
   ]
  },
  {
   "cell_type": "code",
   "execution_count": 85,
   "id": "dress-understanding",
   "metadata": {},
   "outputs": [],
   "source": [
    "data_frame_for_distribution = data_frame.drop([\"car name\", \"origin\", \"cylinders\"], axis=1)\n",
    "data_frame_for_countplot = data_frame.drop([\"mpg\", \"displacement\", \n",
    "                                                  \"horsepower\", \"weight\", \"acceleration\", \"model year\", \n",
    "                                                  \"car name\"], axis=1)"
   ]
  },
  {
   "cell_type": "code",
   "execution_count": 86,
   "id": "agricultural-young",
   "metadata": {},
   "outputs": [
    {
     "data": {
      "text/plain": [
       "0      1\n",
       "1      1\n",
       "2      1\n",
       "3      1\n",
       "4      1\n",
       "      ..\n",
       "393    1\n",
       "394    2\n",
       "395    1\n",
       "396    1\n",
       "397    1\n",
       "Name: origin, Length: 398, dtype: int64"
      ]
     },
     "execution_count": 86,
     "metadata": {},
     "output_type": "execute_result"
    }
   ],
   "source": [
    "data_frame_for_countplot[\"origin\"]"
   ]
  },
  {
   "cell_type": "code",
   "execution_count": 87,
   "id": "meaningful-ordering",
   "metadata": {},
   "outputs": [
    {
     "data": {
      "image/png": "[encoded data removed]",
      "text/plain": [
       "<Figure size 576x432 with 1 Axes>"
      ]
     },
     "metadata": {},
     "output_type": "display_data"
    },
    {
     "data": {
      "image/png": "[encoded data removed]",
      "text/plain": [
       "<Figure size 576x432 with 1 Axes>"
      ]
     },
     "metadata": {},
     "output_type": "display_data"
    }
   ],
   "source": [
    "import matplotlib.pyplot as plt\n",
    "for column in data_frame_for_countplot:\n",
    "    plt.figure(figsize=(8,6))\n",
    "    seaborn.countplot(x=column, data=data_frame_for_countplot).set(title=column)"
   ]
  },
  {
   "cell_type": "code",
   "execution_count": 88,
   "id": "acceptable-scholar",
   "metadata": {},
   "outputs": [
    {
     "data": {
      "text/plain": [
       "Index(['mpg', 'displacement', 'horsepower', 'weight', 'acceleration',\n",
       "       'model year'],\n",
       "      dtype='object')"
      ]
     },
     "execution_count": 88,
     "metadata": {},
     "output_type": "execute_result"
    }
   ],
   "source": [
    "data_frame_for_distribution.columns # return list of column headings and dtype"
   ]
  },
  {
   "cell_type": "code",
   "execution_count": 89,
   "id": "streaming-wilderness",
   "metadata": {},
   "outputs": [
    {
     "data": {
      "text/plain": [
       "(6, 2, 3)"
      ]
     },
     "execution_count": 89,
     "metadata": {},
     "output_type": "execute_result"
    }
   ],
   "source": [
    "# Draw graphs side by side\n",
    "number_of_plots = len(data_frame_for_distribution.columns)\n",
    "total_cols = 2\n",
    "total_rows = number_of_plots // total_cols + (number_of_plots % total_cols >0)\n",
    "\n",
    "number_of_plots, total_cols, total_rows"
   ]
  },
  {
   "cell_type": "code",
   "execution_count": 90,
   "id": "athletic-width",
   "metadata": {},
   "outputs": [
    {
     "data": {
      "image/png": "[encoded data removed]",
      "text/plain": [
       "<Figure size 864x864 with 6 Axes>"
      ]
     },
     "metadata": {},
     "output_type": "display_data"
    }
   ],
   "source": [
    "fig, axs = plt.subplots(nrows=total_rows, ncols=total_cols, \n",
    "                        figsize=(12, 12), constrained_layout=True)\n",
    "# constrained layout - automatically fit the graph,legend, labels etc\n",
    "\n",
    "for i, column in enumerate(data_frame_for_distribution.columns):\n",
    "    row = i//total_cols\n",
    "    col = i % total_cols\n",
    "    seaborn.histplot(data=data_frame_for_distribution,x=column, ax=axs[row, col])"
   ]
  },
  {
   "cell_type": "code",
   "execution_count": 93,
   "id": "spiritual-success",
   "metadata": {},
   "outputs": [
    {
     "data": {
      "text/html": [
       "<div>\n",
       "<style scoped>\n",
       "    .dataframe tbody tr th:only-of-type {\n",
       "        vertical-align: middle;\n",
       "    }\n",
       "\n",
       "    .dataframe tbody tr th {\n",
       "        vertical-align: top;\n",
       "    }\n",
       "\n",
       "    .dataframe thead th {\n",
       "        text-align: right;\n",
       "    }\n",
       "</style>\n",
       "<table border=\"1\" class=\"dataframe\">\n",
       "  <thead>\n",
       "    <tr style=\"text-align: right;\">\n",
       "      <th></th>\n",
       "      <th>mpg</th>\n",
       "      <th>displacement</th>\n",
       "      <th>horsepower</th>\n",
       "      <th>weight</th>\n",
       "      <th>acceleration</th>\n",
       "      <th>model year</th>\n",
       "    </tr>\n",
       "  </thead>\n",
       "  <tbody>\n",
       "    <tr>\n",
       "      <th>mpg</th>\n",
       "      <td>1.000000</td>\n",
       "      <td>-0.804203</td>\n",
       "      <td>-0.778427</td>\n",
       "      <td>-0.831741</td>\n",
       "      <td>0.420289</td>\n",
       "      <td>0.579267</td>\n",
       "    </tr>\n",
       "    <tr>\n",
       "      <th>displacement</th>\n",
       "      <td>-0.804203</td>\n",
       "      <td>1.000000</td>\n",
       "      <td>0.897257</td>\n",
       "      <td>0.932824</td>\n",
       "      <td>-0.543684</td>\n",
       "      <td>-0.370164</td>\n",
       "    </tr>\n",
       "    <tr>\n",
       "      <th>horsepower</th>\n",
       "      <td>-0.778427</td>\n",
       "      <td>0.897257</td>\n",
       "      <td>1.000000</td>\n",
       "      <td>0.864538</td>\n",
       "      <td>-0.689196</td>\n",
       "      <td>-0.416361</td>\n",
       "    </tr>\n",
       "    <tr>\n",
       "      <th>weight</th>\n",
       "      <td>-0.831741</td>\n",
       "      <td>0.932824</td>\n",
       "      <td>0.864538</td>\n",
       "      <td>1.000000</td>\n",
       "      <td>-0.417457</td>\n",
       "      <td>-0.306564</td>\n",
       "    </tr>\n",
       "    <tr>\n",
       "      <th>acceleration</th>\n",
       "      <td>0.420289</td>\n",
       "      <td>-0.543684</td>\n",
       "      <td>-0.689196</td>\n",
       "      <td>-0.417457</td>\n",
       "      <td>1.000000</td>\n",
       "      <td>0.288137</td>\n",
       "    </tr>\n",
       "    <tr>\n",
       "      <th>model year</th>\n",
       "      <td>0.579267</td>\n",
       "      <td>-0.370164</td>\n",
       "      <td>-0.416361</td>\n",
       "      <td>-0.306564</td>\n",
       "      <td>0.288137</td>\n",
       "      <td>1.000000</td>\n",
       "    </tr>\n",
       "  </tbody>\n",
       "</table>\n",
       "</div>"
      ],
      "text/plain": [
       "                   mpg  displacement  horsepower    weight  acceleration  \\\n",
       "mpg           1.000000     -0.804203   -0.778427 -0.831741      0.420289   \n",
       "displacement -0.804203      1.000000    0.897257  0.932824     -0.543684   \n",
       "horsepower   -0.778427      0.897257    1.000000  0.864538     -0.689196   \n",
       "weight       -0.831741      0.932824    0.864538  1.000000     -0.417457   \n",
       "acceleration  0.420289     -0.543684   -0.689196 -0.417457      1.000000   \n",
       "model year    0.579267     -0.370164   -0.416361 -0.306564      0.288137   \n",
       "\n",
       "              model year  \n",
       "mpg             0.579267  \n",
       "displacement   -0.370164  \n",
       "horsepower     -0.416361  \n",
       "weight         -0.306564  \n",
       "acceleration    0.288137  \n",
       "model year      1.000000  "
      ]
     },
     "execution_count": 93,
     "metadata": {},
     "output_type": "execute_result"
    }
   ],
   "source": [
    "data_frame_for_distribution.corr()"
   ]
  }
 ],
 "metadata": {
  "kernelspec": {
   "display_name": "Python 3",
   "language": "python",
   "name": "python3"
  },
  "language_info": {
   "codemirror_mode": {
    "name": "ipython",
    "version": 3
   },
   "file_extension": ".py",
   "mimetype": "text/x-python",
   "name": "python",
   "nbconvert_exporter": "python",
   "pygments_lexer": "ipython3",
   "version": "3.9.0"
  }
 },
 "nbformat": 4,
 "nbformat_minor": 5
}
